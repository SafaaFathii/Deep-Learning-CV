{
  "nbformat": 4,
  "nbformat_minor": 0,
  "metadata": {
    "colab": {
      "name": "01.Deep Learning CV.ipynb",
      "provenance": [],
      "authorship_tag": "ABX9TyP+A0HUJp0RM2YOoN9hhw0v",
      "include_colab_link": true
    },
    "kernelspec": {
      "name": "python3",
      "display_name": "Python 3"
    },
    "language_info": {
      "name": "python"
    }
  },
  "cells": [
    {
      "cell_type": "markdown",
      "metadata": {
        "id": "view-in-github",
        "colab_type": "text"
      },
      "source": [
        "<a href=\"https://colab.research.google.com/github/SafaaFathii/Deep-Learning-CV/blob/main/notebooks/01_Deep_Learning_CV.ipynb\" target=\"_parent\"><img src=\"https://colab.research.google.com/assets/colab-badge.svg\" alt=\"Open In Colab\"/></a>"
      ]
    },
    {
      "cell_type": "code",
      "execution_count": 1,
      "metadata": {
        "id": "aMEF0-kyLm3s"
      },
      "outputs": [],
      "source": [
        "import cv2"
      ]
    },
    {
      "cell_type": "code",
      "source": [
        "img = cv2.imread()"
      ],
      "metadata": {
        "id": "a5g6Sg4uL0ZQ"
      },
      "execution_count": null,
      "outputs": []
    }
  ]
}